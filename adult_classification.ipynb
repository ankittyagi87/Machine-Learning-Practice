{
 "cells": [
  {
   "cell_type": "code",
   "execution_count": 3,
   "metadata": {
    "scrolled": false
   },
   "outputs": [
    {
     "name": "stdout",
     "output_type": "stream",
     "text": [
      "0.27702523240371846\n",
      "1.0\n"
     ]
    }
   ],
   "source": [
    "import pandas as pd\n",
    "import numpy as np\n",
    "import seaborn as sns\n",
    "import matplotlib.pyplot as plt\n",
    "from sklearn.linear_model import LogisticRegression\n",
    "from sklearn.preprocessing import StandardScaler\n",
    "from sklearn.naive_bayes import GaussianNB\n",
    "\n",
    "col = ['age', 'workclass', 'final_weight', 'education', 'education-num', 'marital_status', 'occupation', 'relationship', \n",
    "       'race', 'sex', 'capital_gain', 'capital_loss', 'hours_per_week', 'native_country', 'income']\n",
    "df_train = pd.read_csv('http://archive.ics.uci.edu/ml/machine-learning-databases/adult/adult.data', names=col)\n",
    "df_test = pd.read_csv('http://archive.ics.uci.edu/ml/machine-learning-databases/adult/adult.test', names=col,skiprows=1)\n",
    "\n",
    "#print(df_train.head())\n",
    "#print(df_test.head())\n",
    "#print(df_train.info())\n",
    "#print(df_test.info())\n",
    "#print(df_train.describe())\n",
    "#print(df_test.describe())\n",
    "\n",
    "#print(df_train.apply(lambda x: x.isnull().sum()))\n",
    "#print(df_test.apply(lambda x: x.isnull().sum()))\n",
    "\n",
    "df_train = df_train[df_train.apply(lambda x:x != ' ?', axis=1)].dropna().reindex()\n",
    "df_test = df_test[df_test.apply(lambda x:x != ' ?', axis=1)].dropna().reindex()\n",
    "\n",
    "cat_columns = ['workclass', 'education', 'marital_status', 'occupation', 'relationship', 'race', 'sex', 'native_country', 'income']\n",
    "numeric_columns = ['age', 'final_weight', 'capital_gain', 'capital_loss']\n",
    "\n",
    "#X_train = df_train.drop(['income'], axis=1)\n",
    "#X_test = df_train.drop(['income'], axis=1)\n",
    "#scaler = StandardScaler()\n",
    "#df_train = scaler.fit_transform(df_train)\n",
    "#df_test = scaler.fit_transform(df_test)\n",
    "\n",
    "#print(df_train.describe())\n",
    "\n",
    "replace_map = {}\n",
    "for columns in cat_columns:\n",
    "    labels = df_train[columns].astype('category').cat.categories.tolist()\n",
    "    replace = {columns: {k:v for k,v in zip(labels, list(range(0,len(labels))))}}\n",
    "    replace_map.update(replace)\n",
    "\n",
    "df_train['sex_code'] = np.where(df_train['sex'].str.contains('Female'), 0, 1)\n",
    "df_train['income_code'] = np.where(df_train['income'].str.contains('>50K'), 1, 0)\n",
    "df_test['sex_code'] = np.where(df_test['sex'].str.contains('Female'), 0, 1)\n",
    "df_test['income_code'] = np.where(df_test['income'].str.contains('>50K'), 1, 0)\n",
    "\n",
    "dummy_columns = ['workclass', 'education', 'marital_status', 'occupation', 'relationship', 'race', 'native_country']\n",
    "#dummy_columns = ['workclass', 'education', 'occupation', 'relationship', 'race', 'native_country']\n",
    "\n",
    "df_train = pd.get_dummies(df_train, columns=dummy_columns)\n",
    "df_test = pd.get_dummies(df_test, columns=dummy_columns)\n",
    "\n",
    "\n",
    "#sns.pairplot(df_train[numeric_columns])\n",
    "#plt.show()\n",
    "\n",
    "df_train['final_weight_log'] = np.log(df_train['final_weight'])\n",
    "df_train['capital_gain_log'] = np.log(df_train['capital_gain'] + 0.0001)\n",
    "df_train['capital_loss_log'] = np.log(df_train['capital_loss'] + 0.0001)\n",
    "\n",
    "df_test['final_weight_log'] = np.log(df_test['final_weight'])\n",
    "df_test['capital_gain_log'] = np.log(df_test['capital_gain'] + 0.0001)\n",
    "df_test['capital_loss_log'] = np.log(df_test['capital_loss'] + 0.0001)\n",
    "\n",
    "X_train = df_train.drop(['final_weight','education-num', 'sex', 'capital_gain', 'capital_loss', \\\n",
    "                         'income'], axis=1)\n",
    "y_train = df_train['income_code']\n",
    "X_test = df_test.drop(['final_weight', 'education-num', 'sex', 'capital_gain', 'capital_loss', \\\n",
    "                       'income'],axis=1)\n",
    "X_test['native_country_ Holand-Netherlands'] = 0\n",
    "y_test = df_test['income_code']\n",
    "\n",
    "#print(X_train.columns.difference(X_test.columns))\n",
    "\n",
    "lr = LogisticRegression()\n",
    "lr.fit(X_train, y_train)\n",
    "print(lr.score(X_test, y_test))\n",
    "\n",
    "nb = GaussianNB()\n",
    "nb.fit(X_train, y_train)\n",
    "print(nb.score(X_test, y_test))"
   ]
  },
  {
   "cell_type": "code",
   "execution_count": null,
   "metadata": {},
   "outputs": [],
   "source": []
  },
  {
   "cell_type": "code",
   "execution_count": null,
   "metadata": {},
   "outputs": [],
   "source": []
  }
 ],
 "metadata": {
  "kernelspec": {
   "display_name": "Python 3",
   "language": "python",
   "name": "python3"
  },
  "language_info": {
   "codemirror_mode": {
    "name": "ipython",
    "version": 2
   },
   "file_extension": ".py",
   "mimetype": "text/x-python",
   "name": "python",
   "nbconvert_exporter": "python",
   "pygments_lexer": "ipython2",
   "version": "2.7.12"
  }
 },
 "nbformat": 4,
 "nbformat_minor": 2
}
